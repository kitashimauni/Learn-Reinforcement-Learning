{
 "cells": [
  {
   "cell_type": "markdown",
   "id": "cd2da267",
   "metadata": {},
   "source": [
    "# モンテカルロ法\n",
    "DPを用いて最適評価関数と最適方策を得る手法は環境のモデルが既知である必要がある。\n",
    "\n",
    "モンテカルロ法は、未知の環境においてデータのサンプリングを行うことで推定を行う手法の総称である。"
   ]
  },
  {
   "cell_type": "markdown",
   "id": "8d469d2f",
   "metadata": {},
   "source": [
    "## 分布モデルとサンプルモデル\n",
    "**分布モデル**は確率分布として表されたモデルを指す。\n",
    "\n",
    "| さいころの目の和 | 2 | 3 | 4 | 5 | 6 | 7 | 8 | 9 | 10 | 11 | 12 |\n",
    "| :----: | :----: | :----: | :----: | :----: | :----: | :----: | :----: | :----: | :----: | :----: | :----: |\n",
    "| 確率 | $\\frac 1 {36}$ | $\\frac 2 {36}$ | $\\frac 3 {36}$ | $\\frac 4 {36}$ | $\\frac 5 {36}$ | $\\frac 6 {36}$ | $\\frac 5{36}$ | $\\frac 4 {36}$ | $\\frac 3 {36}$ | $\\frac 2 {36}$ | $\\frac 1 {36}$ |\n",
    "\n",
    "一方、**サンプルモデル**はサンプリングができるモデルを指す。"
   ]
  },
  {
   "cell_type": "markdown",
   "id": "2da44b15",
   "metadata": {},
   "source": [
    "## 分布モデルにおける期待値の算出\n",
    "分布モデルでは確率分布があらかじめわかっているため、以下のように算出できる。"
   ]
  },
  {
   "cell_type": "code",
   "execution_count": 4,
   "id": "8361001a",
   "metadata": {},
   "outputs": [
    {
     "name": "stdout",
     "output_type": "stream",
     "text": [
      "7.0\n"
     ]
    }
   ],
   "source": [
    "p = {2: 1/36, 3: 2/36, 4: 3/36, 5: 4/36, 6: 5/36, 7: 6/36, 8: 5/36, 9: 4/36, 10: 3/36, 11: 2/36, 12: 1/36}\n",
    "\n",
    "V = sum(k * v for k, v in p.items())\n",
    "print(V)"
   ]
  },
  {
   "cell_type": "markdown",
   "id": "8584f25e",
   "metadata": {},
   "source": [
    "## サンプルモデルにおける期待値の算出\n",
    "十分な数のサンプルを使うことで、期待値は正しい値に収束する。\n",
    "\n",
    "十分な回数サンプルを取得し、計算することで推定する手法が**モンテカルロ法**である。\n",
    "\n",
    "以下にモンテカルロ法で期待値を算出するプログラムを示す。真の期待値である$7$に近い値を得られていることがわかる。"
   ]
  },
  {
   "cell_type": "code",
   "execution_count": 5,
   "id": "f50694c4",
   "metadata": {},
   "outputs": [
    {
     "name": "stdout",
     "output_type": "stream",
     "text": [
      "7.0092\n"
     ]
    }
   ],
   "source": [
    "import numpy as np\n",
    "\n",
    "def sample(dices):\n",
    "    x = 0\n",
    "    for i in range(dices):\n",
    "        x += np.random.randint(1, 7)\n",
    "    return x\n",
    "\n",
    "trial = 10000\n",
    "\n",
    "samples = []\n",
    "for i in range(trial):\n",
    "    s = sample(2)\n",
    "    samples.append(s)\n",
    "    \n",
    "V = sum(samples) / len(samples)\n",
    "print(V)"
   ]
  },
  {
   "cell_type": "markdown",
   "id": "125edf6e",
   "metadata": {},
   "source": [
    "上記のプログラムではサンプルを全て求めてから期待値を計算している。\n",
    "\n",
    "ここで、N個のデータから得られる平均値は以下のようにして求められる。\n",
    "\n",
    "$$\n",
    "V_n = \\frac {s_1 + s_2 + ... + s_n} n\n",
    "$$\n",
    "\n",
    "これを変形すると以下のようになる。\n",
    "\n",
    "$$\n",
    "V_n = \\frac {s_1 + s_2 + ... + s_n} n\\\\\n",
    "V_n = \\frac {s_n} n + \\frac {n - 1} n \\frac {s_1 + s_2 + ... + s_{n - 1}} {n - 1}\\\\\n",
    "V_n = \\frac {s_n} n + \\biggl( 1 - \\frac 1 n \\biggr) V_{n - 1}\\\\\n",
    "V_n = V_{n - 1} + \\frac 1 n (s_n - V_{n - 1})\\\\\n",
    "$$\n",
    "\n",
    "よって、サンプルを得るたびにそれまでの平均値と新たに得たサンプルの値を用いて平均値を更新できる。\n",
    "\n",
    "これを実装すると以下のようになる。"
   ]
  },
  {
   "cell_type": "code",
   "execution_count": 6,
   "id": "659e4e94",
   "metadata": {},
   "outputs": [
    {
     "name": "stdout",
     "output_type": "stream",
     "text": [
      "7.040399999999987\n"
     ]
    }
   ],
   "source": [
    "trial = 10000\n",
    "V, n = 0, 0\n",
    "\n",
    "for i in range(trial):\n",
    "    s = sample(2)\n",
    "    n += 1\n",
    "    V += (s - V) / n\n",
    "print(V)"
   ]
  },
  {
   "cell_type": "markdown",
   "id": "df0e29ac",
   "metadata": {},
   "source": [
    "## 価値関数をモンテカルロ法で求める\n",
    "まず、価値関数は以下の式で表される。\n",
    "\n",
    "$$\n",
    "u_\\pi (s) = \\mathbb{E} [G|s]\n",
    "$$\n",
    "\n",
    "ここにモンテカルロ法を適用することを考えると、$n$回目の試行で得た収益を$G^{(n)}$として以下の式で表すことができる。なお、この際に方策$\\pi$を用いる。\n",
    "\n",
    "$$\n",
    "V_\\pi(s) = \\frac {G^{(1)} + G^{(2)} + ... + G^{(n)}} n\n",
    "$$\n",
    "\n",
    "これを**各状態について**求めればよい。このとき、各状態の価値関数の値どうしは独立して算出されていることに注意が必要である。"
   ]
  },
  {
   "cell_type": "markdown",
   "id": "185b9b20",
   "metadata": {},
   "source": [
    "## 効率の良い求め方\n",
    "例として、状態$A$からスタートし、状態$B$と状態$C$を順に経由してゴールすることを考える。\n",
    "\n",
    "このとき、$A$から$B$、$B$から$C$、$C$からゴールへの移動に対する報酬をそれぞれ$R_0, R_1, R_2$とすると、各状態からの移動を考えたとき収益$G_A, G_B, G_C$は以下のように求められる。\n",
    "\n",
    "$$\n",
    "\\begin{align*}\n",
    "G_A &= R_0 + \\gamma R_1 + \\gamma^2 R_2\\\\\n",
    "G_B &= R_1 + \\gamma R_2\\\\\n",
    "G_C &= R_2\n",
    "\\end{align*}\n",
    "$$\n",
    "\n",
    "これを変形すると、最後の状態から以下のように逐次的に求めることができる。\n",
    "\n",
    "$$\n",
    "\\begin{align*}\n",
    "G_C &= R_2\\\\\n",
    "G_B &= R_1 + \\gamma G_C\\\\\n",
    "G_A &= R_0 + \\gamma G_B\\\\\n",
    "\\end{align*}\n",
    "$$"
   ]
  },
  {
   "cell_type": "markdown",
   "id": "f0291657",
   "metadata": {},
   "source": [
    "## モンテカルロ法を実装する\n",
    "上記の式を用いて、モンテカルロ法で方策の評価を行うプログラムを実装する。\n",
    "\n",
    "まず、DP法で用いた`GridWorld`を定義する。DP法で用いたものと比べて、環境が状態を保持しており、状態と行動を渡すと次の状態を返す`step`メソッドが実装されている。"
   ]
  },
  {
   "cell_type": "code",
   "execution_count": 7,
   "id": "6efb867c",
   "metadata": {},
   "outputs": [],
   "source": [
    "import numpy as np\n",
    "from utils import Renderer\n",
    "\n",
    "class GridWorld:\n",
    "    def __init__(self):\n",
    "        self.action_space = [0, 1, 2, 3]  # 上、下、左、右\n",
    "        self.action_map = {\n",
    "            0: (-1, 0),  # 上\n",
    "            1: (1, 0),   # 下\n",
    "            2: (0, -1),  # 左\n",
    "            3: (0, 1),   # 右\n",
    "        }\n",
    "        self.reward_map = np.array([\n",
    "            [0, 0, 0, 1],\n",
    "            [0, None, 0, -1],\n",
    "            [0, 0, 0, 0],\n",
    "        ])\n",
    "        self.goal_state = (0, 3)  # ゴール地点\n",
    "        self.wall_state = (1, 1)  # 壁の地点\n",
    "        self.start_state = (2, 0)  # スタート地点\n",
    "        self.now_state = self.start_state\n",
    "\n",
    "    @property\n",
    "    def height(self):\n",
    "        return self.reward_map.shape[0]\n",
    "    \n",
    "    @property\n",
    "    def width(self):\n",
    "        return self.reward_map.shape[1]\n",
    "    \n",
    "    @property\n",
    "    def shape(self):\n",
    "        return self.reward_map.shape\n",
    "\n",
    "    def actions(self):\n",
    "        return self.action_space\n",
    "    \n",
    "    # 状態を取得\n",
    "    def states(self):\n",
    "        for i in range(self.height):\n",
    "            for j in range(self.width):\n",
    "                yield (i, j)\n",
    "                \n",
    "    def next_state(self, state, action):\n",
    "        move = self.action_map[action]\n",
    "        next_state = (state[0] + move[0], state[1] + move[1])\n",
    "        nx, ny = next_state\n",
    "        \n",
    "        # ワールドの端なら状態は変わらない\n",
    "        if nx < 0 or nx >= self.height or ny < 0 or ny >= self.width:\n",
    "            return state\n",
    "        # 壁なら状態は変わらない\n",
    "        elif self.reward_map[nx, ny] is None:\n",
    "            return state\n",
    "        \n",
    "        return next_state\n",
    "    \n",
    "    def step(self, action):\n",
    "        # 行動を選択\n",
    "        next_state = self.next_state(self.now_state, action)\n",
    "        reward = self.reward(next_state)\n",
    "        \n",
    "        # 状態を更新\n",
    "        self.now_state = next_state\n",
    "        \n",
    "        done = True if next_state == self.goal_state else False\n",
    "\n",
    "        return next_state, reward, done\n",
    "\n",
    "    def reset(self):\n",
    "        self.now_state = self.start_state\n",
    "        return self.now_state\n",
    "\n",
    "    def reward(self, state):\n",
    "        return self.reward_map[state]\n",
    "    \n",
    "    def render_v(self, v=None, policy=None, print_value=True):\n",
    "        renderer = Renderer(self.reward_map, self.goal_state, self.wall_state)\n",
    "        renderer.render_v(v, policy, print_value)\n",
    "\n",
    "    def render_q(self, q=None, print_value=True):\n",
    "        renderer = Renderer(self.reward_map, self.goal_state, self.wall_state)\n",
    "        renderer.render_q(q, print_value)"
   ]
  },
  {
   "cell_type": "markdown",
   "id": "6e822a93",
   "metadata": {},
   "source": [
    "### Agentの実装\n",
    "ランダムな方策に従って行動するエージェントを実装する。\n",
    "\n",
    "`eval`メソッドを用いることで、蓄積したメモリのデータを使って価値関数の値`V`を更新する。"
   ]
  },
  {
   "cell_type": "code",
   "execution_count": 8,
   "id": "5b2df7a0",
   "metadata": {},
   "outputs": [],
   "source": [
    "from collections import defaultdict\n",
    "\n",
    "\n",
    "class RandomAgent:\n",
    "    def __init__(self, gamma, action_size):\n",
    "        self.gamma = gamma\n",
    "        self.action_size = action_size\n",
    "\n",
    "        random_actions = {0: 0.25, 1: 0.25, 2: 0.25, 3: 0.25}\n",
    "        self.pi = defaultdict(lambda: random_actions)\n",
    "        self.V = defaultdict(lambda: 0)\n",
    "        self.cnts = defaultdict(lambda: 0)\n",
    "        self.memory = []\n",
    "\n",
    "    def get_action(self, state):\n",
    "        action_probs = self.pi[state]\n",
    "        actions = list(action_probs.keys())\n",
    "        probs = list(action_probs.values())\n",
    "        return np.random.choice(actions, p=probs)\n",
    "    \n",
    "    def add(self, state, action, reward):\n",
    "        data = (state, action, reward)\n",
    "        self.memory.append(data)\n",
    "\n",
    "    def reset(self):\n",
    "        self.memory.clear()\n",
    "\n",
    "    def eval(self):\n",
    "        G = 0\n",
    "        for data in reversed(self.memory): # 最後の状態から逐次的に更新する\n",
    "            state, action, reward = data\n",
    "            G = reward + self.gamma * G\n",
    "            self.cnts[state] += 1\n",
    "            self.V[state] += (G - self.V[state]) / self.cnts[state]   "
   ]
  },
  {
   "cell_type": "markdown",
   "id": "a6c88f05",
   "metadata": {},
   "source": [
    "### モンテカルロ法を用いる\n",
    "`GridWorld`クラスと`RandomAgent`クラスを用いてモンテカルロ法を実装する。"
   ]
  },
  {
   "cell_type": "code",
   "execution_count": 9,
   "id": "00501d7c",
   "metadata": {},
   "outputs": [
    {
     "data": {
      "image/png": "[encoded data removed]",
      "text/plain": [
       "<Figure size 640x480 with 1 Axes>"
      ]
     },
     "metadata": {},
     "output_type": "display_data"
    }
   ],
   "source": [
    "env = GridWorld()\n",
    "agent = RandomAgent(gamma=0.9, action_size=len(env.action_space))\n",
    "\n",
    "episodes = 10000\n",
    "for episode in range(episodes):\n",
    "    state = env.reset()\n",
    "    agent.reset()\n",
    "\n",
    "    while True:\n",
    "        action = agent.get_action(state)\n",
    "        next_state, reward, done = env.step(action)\n",
    "\n",
    "        agent.add(state, action, reward)\n",
    "        \n",
    "        if done:\n",
    "            agent.eval()\n",
    "            break\n",
    "        \n",
    "        state = next_state\n",
    "\n",
    "env.render_v(agent.V)"
   ]
  },
  {
   "cell_type": "markdown",
   "id": "4932afd7",
   "metadata": {},
   "source": [
    "## 考察\n",
    "この結果は、DP法を用いてランダムな方策の評価を行った結果とほとんど一致しており、モンテカルロ法でもおおむね正しい結果を得られていることがわかる。\n",
    "\n",
    "モンテカルロ法ではモデルの情報がサンプリングでのみ得られる場合でも有効だと考えられる。"
   ]
  },
  {
   "cell_type": "markdown",
   "id": "6498ed98",
   "metadata": {},
   "source": [
    "## 方策制御\n",
    "ここまではモンテカルロ法で方策の評価を行う方法を述べてきたが、最適な方策を得る方法についても考える。\n",
    "\n",
    "DP法を用いた手法では、方策反復法などで価値関数の算出と方策の更新を繰り返すことで最適な方策を得ていた。\n",
    "\n",
    "このときの方策の更新には以下の式を用いた。\n",
    "\n",
    "$$\n",
    "\\begin{align*}\n",
    "\\mu(s) &= \\argmax_a Q(s, a)\\\\\n",
    "&= \\argmax_a \\sum_{s'} p(s'|s, a) \\{r(s, a, s') + \\gamma V(s')\\}\n",
    "\\end{align*}\n",
    "$$\n",
    "\n",
    "モンテカルロ法でもこの式を用いることができれば最適方策を得ることが可能になるが、サンプルモデルでは$p(s'|s, a)$や$r(s, a, s')$を知ることはできないためこの式をそのまま使うことはできない。\n",
    "\n",
    "そこで、$Q$関数を用いて方策を更新することを考える。$Q$関数の定義は「**状態$s$のときに行動$a$をとった際の収益の期待値**」であるから、以下のように表される。\n",
    "\n",
    "$$\n",
    "\\begin{align*}\n",
    "Q_\\pi(s, a) &= \\mathbb{E} [G_t|S_t = s, A_t = a]\\\\\n",
    "&= \\frac {G^{(1)} + G^{(2)} + ... + G^{(n)}} n\n",
    "\\end{align*}\n",
    "$$\n",
    "\n",
    "また、$n$個目の新たなサンプルを得たときの更新式は以下のように表すことができる。\n",
    "\n",
    "$$\n",
    "Q_n(s, a) = Q_{n - 1}(s, a) + \\frac 1 n \\biggl\\{ G^{(n)} - Q_{n - 1}(s, a) \\biggr\\}\n",
    "$$\n",
    "\n",
    "この式は状態価値関数を更新する以下の式と同じ形をとっていることがわかる。\n",
    "\n",
    "$$\n",
    "V_n(s) = V_{n - 1}(s) + \\frac 1 n \\biggl\\{ G^{(n)} - V_{n - 1}(s) \\biggr\\}\n",
    "$$"
   ]
  },
  {
   "cell_type": "markdown",
   "id": "69296329",
   "metadata": {},
   "source": [
    "## Q関数を用いた方策制御の実装\n",
    "以下のプログラムは`RandomAgent`を基に構成されており、状態価値関数の代わりにQ関数を算出し、探索を行うたびに方策を更新している。\n",
    "\n",
    "但し、このプログラムには以下のような問題がある。\n",
    "\n",
    "1. 1回探索した後に方策を更新した際に、ある状態における行動が確率1で固定されてしまい、十分に探索できない。\n",
    "2. Q関数を更新するときに、過去に探索した際の収益と新たに探索した際の収益の重みが同じ。"
   ]
  },
  {
   "cell_type": "code",
   "execution_count": 10,
   "id": "be6ddbc5",
   "metadata": {},
   "outputs": [],
   "source": [
    "def greedy_probs(Q, state, action_size):\n",
    "    qs = [Q[(state, action)] for action in range(action_size)]\n",
    "    max_action = np.argmax(qs)\n",
    "\n",
    "    action_probs = {action: 0.0 for action in range(action_size)}\n",
    "    action_probs[max_action] = 1.0\n",
    "    return action_probs\n",
    "\n",
    "class McAgent:\n",
    "    def __init__(self, gamma, action_size):\n",
    "        self.gamma = gamma\n",
    "        self.action_size = action_size\n",
    "\n",
    "        random_actions = {0: 0.25, 1: 0.25, 2: 0.25, 3: 0.25}\n",
    "        self.pi = defaultdict(lambda: random_actions)\n",
    "        self.Q = defaultdict(lambda: 0)\n",
    "        self.cnts = defaultdict(lambda: 0)\n",
    "        self.memory = []\n",
    "\n",
    "    def get_action(self, state):\n",
    "        action_probs = self.pi[state]\n",
    "        actions = list(action_probs.keys())\n",
    "        probs = list(action_probs.values())\n",
    "        return np.random.choice(actions, p = probs)\n",
    "    \n",
    "    def add(self, state, action, reward):\n",
    "        data = (state, action, reward)\n",
    "        self.memory.append(data)\n",
    "\n",
    "    def reset(self):\n",
    "        self.memory.clear()\n",
    "\n",
    "    def update(self):\n",
    "        G = 0\n",
    "        for data in reversed(self.memory):\n",
    "            state, action, reward = data\n",
    "            G = reward + self.gamma * G\n",
    "            key = (state, action)\n",
    "            self.cnts[key] += 1\n",
    "            self.Q[key] += (G - self.Q[key]) / self.cnts[key]\n",
    "\n",
    "            self.pi[state] = greedy_probs(self.Q, state, self.action_size)"
   ]
  },
  {
   "cell_type": "markdown",
   "id": "30b63850",
   "metadata": {},
   "source": [
    "## 改善\n",
    "上記のプログラムにおける2つの問題を、それぞれ以下のようにして修正する。\n",
    "\n",
    "1. 1回探索した後に方策を更新した際に、ある状態における行動が確率1で固定されてしまい、十分に探索できない。\\\n",
    "$\\varepsilon$-greedy法を適用し、エージェントの行動に多少のランダム性を持たせることで十分に探索できるようにする。\n",
    "2. Q関数を更新するときに、過去に探索した際の収益と新たに探索した際の収益の重みが同じ。\\\n",
    "Q関数の値を更新する際に、重みを$\\frac 1 n$ではなく固定値$\\alpha$とすることで最近の探索結果ほど重視されるようにする。\n",
    "\n",
    "これらを踏まえて修正したプログラムを以下に示す。"
   ]
  },
  {
   "cell_type": "code",
   "execution_count": 11,
   "id": "89af2fb8",
   "metadata": {},
   "outputs": [],
   "source": [
    "def greedy_probs_fixed(Q, state, epsilon, action_size):\n",
    "    qs = [Q[(state, action)] for action in range(action_size)]\n",
    "    max_action = np.argmax(qs)\n",
    "\n",
    "    action_probs = {action: epsilon / action_size for action in range(action_size)}\n",
    "    action_probs[max_action] += (1.0 - epsilon)\n",
    "    return action_probs\n",
    "\n",
    "class McAgentFixed:\n",
    "    def __init__(self, gamma, epsilon, alpha, action_size):\n",
    "        self.gamma = gamma\n",
    "        self.epsilon = epsilon\n",
    "        self.alpha = alpha\n",
    "        self.action_size = action_size\n",
    "\n",
    "        random_actions = {0: 0.25, 1: 0.25, 2: 0.25, 3: 0.25}\n",
    "        self.pi = defaultdict(lambda: random_actions)\n",
    "        self.Q = defaultdict(lambda: 0)\n",
    "        self.memory = []\n",
    "\n",
    "    def get_action(self, state):\n",
    "        action_probs = self.pi[state]\n",
    "        actions = list(action_probs.keys())\n",
    "        probs = list(action_probs.values())\n",
    "        return np.random.choice(actions, p = probs)\n",
    "    \n",
    "    def add(self, state, action, reward):\n",
    "        data = (state, action, reward)\n",
    "        self.memory.append(data)\n",
    "\n",
    "    def reset(self):\n",
    "        self.memory.clear()\n",
    "\n",
    "    def update(self):\n",
    "        G = 0\n",
    "        for data in reversed(self.memory):\n",
    "            state, action, reward = data\n",
    "            G = reward + self.gamma * G\n",
    "            key = (state, action)\n",
    "            self.Q[key] += (G - self.Q[key]) * self.alpha # 固定値を使用して更新\n",
    "\n",
    "            self.pi[state] = greedy_probs_fixed(self.Q, state, self.epsilon, self.action_size)"
   ]
  },
  {
   "cell_type": "markdown",
   "id": "a6d9793e",
   "metadata": {},
   "source": [
    "## 実行する\n",
    "上記で実装した`McAgentFixed`クラスを使い、Q関数の値を実際に計算する。"
   ]
  },
  {
   "cell_type": "code",
   "execution_count": 13,
   "id": "512b1708",
   "metadata": {},
   "outputs": [
    {
     "data": {
      "image/png": "[encoded data removed]",
      "text/plain": [
       "<Figure size 640x480 with 1 Axes>"
      ]
     },
     "metadata": {},
     "output_type": "display_data"
    },
    {
     "data": {
      "image/png": "[encoded data removed]",
      "text/plain": [
       "<Figure size 640x480 with 1 Axes>"
      ]
     },
     "metadata": {},
     "output_type": "display_data"
    }
   ],
   "source": [
    "env = GridWorld()\n",
    "agent = McAgentFixed(gamma=0.9, epsilon=0.1, alpha=0.1, action_size=len(env.action_space))\n",
    "\n",
    "episodes = 10000\n",
    "for episode in range(episodes):\n",
    "    state = env.reset()\n",
    "    agent.reset()\n",
    "\n",
    "    while True:\n",
    "        action = agent.get_action(state)\n",
    "        next_state, reward, done = env.step(action)\n",
    "        agent.add(state, action, reward)\n",
    "\n",
    "        if done:\n",
    "            agent.update()\n",
    "            break\n",
    "\n",
    "        state = next_state\n",
    "\n",
    "env.render_q(agent.Q)"
   ]
  },
  {
   "cell_type": "markdown",
   "id": "3dbb8739",
   "metadata": {},
   "source": [
    "## 考察\n",
    "この結果から、ほぼ最適な方策が得られていると考える。\n",
    "\n",
    "また、バンディット問題と同様に、$\\varepsilon$の値や$\\alpha$の値を変化させることで、最適方策を得る精度や収束までの速度が変化すると考えられる。"
   ]
  },
  {
   "cell_type": "markdown",
   "id": "24e278b4",
   "metadata": {},
   "source": [
    "## 方策オフ型と重点サンプリング\n",
    "モンテカルロ法と$\\varepsilon$-greedy法を組み合わせた手法では、最適に近い方策が得られたが、一定の確率で探索を行っているため完全に最適な方策を得られているわけではない。\n",
    "\n",
    "### 方策オン型と方策オフ型\n",
    "- 方策オン型(on-policy): 自分で得た経験から自分の方策を改善する\n",
    "- 方策オフ型(off-policy): 自分とは他の場所で得た経験から自分の方策を改善する\n",
    "\n",
    "- ターゲット方策(Target Policy): 評価・改善の対象となる方策\n",
    "- 挙動方策(Behavior Policy): 実際に行動を起こす際に用いる方策\n",
    "\n",
    "ここまで、ターゲット方策と挙動方策を区別することなく使ってきており、これは方策オン型である。\n",
    "\n",
    "方策オフ型では、「活用」を行うターゲット方策と「探索」を行う挙動方策に分けて考えることができる。\n",
    "\n",
    "ただし、挙動方策で得られたサンプルデータを使ってターゲット方策を更新する場合、期待値を求める際に工夫が必要であり、その際に**重点サンプリング**が用いられる。\n",
    "\n",
    "### 重点サンプリング\n",
    "**重点サンプリング(Importance Sampling)**は、ある確率分布の期待値を、別の確率分布からサンプリングしたデータを使って計算する手法である。"
   ]
  }
 ],
 "metadata": {
  "kernelspec": {
   "display_name": ".venv",
   "language": "python",
   "name": "python3"
  },
  "language_info": {
   "codemirror_mode": {
    "name": "ipython",
    "version": 3
   },
   "file_extension": ".py",
   "mimetype": "text/x-python",
   "name": "python",
   "nbconvert_exporter": "python",
   "pygments_lexer": "ipython3",
   "version": "3.12.8"
  }
 },
 "nbformat": 4,
 "nbformat_minor": 5
}
