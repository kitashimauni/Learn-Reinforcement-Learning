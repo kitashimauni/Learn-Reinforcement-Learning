{
 "cells": [
  {
   "cell_type": "markdown",
   "id": "cd2da267",
   "metadata": {},
   "source": [
    "# モンテカルロ法\n",
    "DPを用いて最適評価関数と最適方策を得る手法は環境のモデルが既知である必要がある。\n",
    "\n",
    "モンテカルロ法は、未知の環境においてデータのサンプリングを行うことで推定を行う手法の総称である。"
   ]
  },
  {
   "cell_type": "markdown",
   "id": "8d469d2f",
   "metadata": {},
   "source": [
    "## 分布モデルとサンプルモデル\n",
    "**分布モデル**は確率分布として表されたモデルを指す。\n",
    "\n",
    "| さいころの目の和 | 2 | 3 | 4 | 5 | 6 | 7 | 8 | 9 | 10 | 11 | 12 |\n",
    "| :----: | :----: | :----: | :----: | :----: | :----: | :----: | :----: | :----: | :----: | :----: | :----: |\n",
    "| 確率 | $\\frac 1 {36}$ | $\\frac 2 {36}$ | $\\frac 3 {36}$ | $\\frac 4 {36}$ | $\\frac 5 {36}$ | $\\frac 6 {36}$ | $\\frac 5{36}$ | $\\frac 4 {36}$ | $\\frac 3 {36}$ | $\\frac 2 {36}$ | $\\frac 1 {36}$ |\n",
    "\n",
    "一方、**サンプルモデル**はサンプリングができるモデルを指す。"
   ]
  },
  {
   "cell_type": "markdown",
   "id": "2da44b15",
   "metadata": {},
   "source": [
    "## 分布モデルにおける期待値の算出\n",
    "分布モデルでは確率分布があらかじめわかっているため、以下のように算出できる。"
   ]
  },
  {
   "cell_type": "code",
   "execution_count": 1,
   "id": "8361001a",
   "metadata": {},
   "outputs": [
    {
     "name": "stdout",
     "output_type": "stream",
     "text": [
      "7.0\n"
     ]
    }
   ],
   "source": [
    "p = {2: 1/36, 3: 2/36, 4: 3/36, 5: 4/36, 6: 5/36, 7: 6/36, 8: 5/36, 9: 4/36, 10: 3/36, 11: 2/36, 12: 1/36}\n",
    "\n",
    "V = sum(k * v for k, v in p.items())\n",
    "print(V)"
   ]
  },
  {
   "cell_type": "markdown",
   "id": "8584f25e",
   "metadata": {},
   "source": [
    "## サンプルモデルにおける期待値の算出\n",
    "十分な数のサンプルを使うことで、期待値は正しい値に収束する。\n",
    "\n",
    "十分な回数サンプルを取得し、計算することで推定する手法が**モンテカルロ法**である。\n",
    "\n",
    "以下にモンテカルロ法で期待値を算出するプログラムを示す。真の期待値である$7$に近い値を得られていることがわかる。"
   ]
  },
  {
   "cell_type": "code",
   "execution_count": 2,
   "id": "f50694c4",
   "metadata": {},
   "outputs": [
    {
     "name": "stdout",
     "output_type": "stream",
     "text": [
      "6.9933\n"
     ]
    }
   ],
   "source": [
    "import numpy as np\n",
    "\n",
    "def sample(dices):\n",
    "    x = 0\n",
    "    for i in range(dices):\n",
    "        x += np.random.randint(1, 7)\n",
    "    return x\n",
    "\n",
    "trial = 10000\n",
    "\n",
    "samples = []\n",
    "for i in range(trial):\n",
    "    s = sample(2)\n",
    "    samples.append(s)\n",
    "    \n",
    "V = sum(samples) / len(samples)\n",
    "print(V)"
   ]
  },
  {
   "cell_type": "markdown",
   "id": "125edf6e",
   "metadata": {},
   "source": [
    "上記のプログラムではサンプルを全て求めてから期待値を計算している。\n",
    "\n",
    "ここで、N個のデータから得られる平均値は以下のようにして求められる。\n",
    "\n",
    "$$\n",
    "V_n = \\frac {s_1 + s_2 + ... + s_n} n\n",
    "$$\n",
    "\n",
    "これを変形すると以下のようになる。\n",
    "\n",
    "$$\n",
    "V_n = \\frac {s_1 + s_2 + ... + s_n} n\\\\\n",
    "V_n = \\frac {s_n} n + \\frac {n - 1} n \\frac {s_1 + s_2 + ... + s_{n - 1}} {n - 1}\\\\\n",
    "V_n = \\frac {s_n} n + \\biggl( 1 - \\frac 1 n \\biggr) V_{n - 1}\\\\\n",
    "V_n = V_{n - 1} + \\frac 1 n (s_n - V_{n - 1})\\\\\n",
    "$$\n",
    "\n",
    "よって、サンプルを得るたびにそれまでの平均値と新たに得たサンプルの値を用いて平均値を更新できる。\n",
    "\n",
    "これを実装すると以下のようになる。"
   ]
  },
  {
   "cell_type": "code",
   "execution_count": 3,
   "id": "659e4e94",
   "metadata": {},
   "outputs": [
    {
     "name": "stdout",
     "output_type": "stream",
     "text": [
      "7.043499999999998\n"
     ]
    }
   ],
   "source": [
    "trial = 10000\n",
    "V, n = 0, 0\n",
    "\n",
    "for i in range(trial):\n",
    "    s = sample(2)\n",
    "    n += 1\n",
    "    V += (s - V) / n\n",
    "print(V)"
   ]
  },
  {
   "cell_type": "markdown",
   "id": "df0e29ac",
   "metadata": {},
   "source": [
    "## 価値関数をモンテカルロ法で求める\n",
    "まず、価値関数は以下の式で表される。\n",
    "\n",
    "$$\n",
    "u_\\pi (s) = \\mathbb{E} [G|s]\n",
    "$$\n",
    "\n",
    "ここにモンテカルロ法を適用することを考えると、$n$回目の試行で得た収益を$G^{(n)}$として以下の式で表すことができる。なお、この際に方策$\\pi$を用いる。\n",
    "\n",
    "$$\n",
    "V_\\pi(s) = \\frac {G^{(1)} + G^{(2)} + ... + G^{(n)}} n\n",
    "$$\n",
    "\n",
    "これを各状態について求めればよい。このとき、各状態の価値関数の値どうしは独立して算出されていることに注意が必要である。"
   ]
  }
 ],
 "metadata": {
  "kernelspec": {
   "display_name": ".venv",
   "language": "python",
   "name": "python3"
  },
  "language_info": {
   "codemirror_mode": {
    "name": "ipython",
    "version": 3
   },
   "file_extension": ".py",
   "mimetype": "text/x-python",
   "name": "python",
   "nbconvert_exporter": "python",
   "pygments_lexer": "ipython3",
   "version": "3.12.8"
  }
 },
 "nbformat": 4,
 "nbformat_minor": 5
}
