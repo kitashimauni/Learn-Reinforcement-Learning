{
 "cells": [
  {
   "cell_type": "markdown",
   "id": "9a1e4df9",
   "metadata": {},
   "source": [
    "# 動的計画法"
   ]
  },
  {
   "cell_type": "markdown",
   "id": "7754ac51",
   "metadata": {},
   "source": [
    "## 動的計画法である方策の評価関数を求める\n",
    "\n",
    "ベルマン方程式は以下の式で表現できる。\n",
    "\n",
    "$$\n",
    "u_\\pi (s) = \\sum_{a, s'} \\pi(a|s) p(s'|s, a) \\{r(s, a, s') + \\gamma u_\\pi (s')\\}\n",
    "$$\n",
    "\n",
    "この式は「現在の状態$s$の価値関数$u_\\pi(s)$」と「次の状態$s'$の評価関数$u_\\pi(s')$」の関係を表している。\n",
    "\n",
    "これを評価関数の推定値$V_k$の更新式と捉えると以下の式で表現できる。なお、$k$は$k$回目の更新であることを表す。\n",
    "\n",
    "$$\n",
    "V_{k+1}(s) = \\sum_{a, s'} \\pi(a|s) p(s'|s, a) \\{r(s, a, s') + \\gamma V_k(s')\\}\\\\\n",
    "V_{k+1}(s) = \\sum_a \\pi(a|s) \\sum_{s'} p(s'|s, a) \\{r(s, a, s') + \\gamma V_k(s')\\} \\tag{1}\n",
    "$$\n",
    "\n",
    "これを繰り返すことで$V_k$が$u_\\pi (s)$に収束することが証明されている。"
   ]
  },
  {
   "cell_type": "markdown",
   "id": "5bf3c3dc",
   "metadata": {},
   "source": [
    "## 簡単なワールドで方策評価を行う\n",
    "### 問題設定\n",
    "以下のようにL1とL2が隣り合ったグリッドを考える。状態L1から右(状態L2)に移動すると報酬は+1、状態L2から左(状態L1)に移動すると報酬は0である。\n",
    "\n",
    "また、状態L1から左または状態L2から右に移動すると報酬は-1で状態は変化しない。\n",
    "\n",
    "| L1 | L2 |\n",
    "\n",
    "### 方策\n",
    "左・右それぞれ$0.5$の確率でランダムに選択する方策を考える。\n",
    "\n",
    "この問題では選択した行動に対して次の状態が一意に決まる決定論的な問題であるため、$s' = f(s, a)$より以下の式で表現できる。\n",
    "\n",
    "$$\n",
    "V_{k + 1} (s) = \\sum_a \\pi (a|s) \\{r(s, a, s') + \\gamma V_k (s')\\} \\tag{2}\n",
    "$$\n",
    "\n",
    "まず、$V_0(L1) = 0, V_0(L2) = 0$で初期化する。"
   ]
  },
  {
   "cell_type": "code",
   "execution_count": 24,
   "id": "8bca2f6a",
   "metadata": {},
   "outputs": [
    {
     "name": "stdout",
     "output_type": "stream",
     "text": [
      "{'L1': 0.0, 'L2': -0.5}\n",
      "{'L1': -0.22499999999999998, 'L2': -0.8262499999999999}\n",
      "{'L1': -0.47306249999999994, 'L2': -1.084690625}\n",
      "{'L1': -0.70098890625, 'L2': -1.3035557890625}\n",
      "{'L1': -0.902045112890625, 'L2': -1.4925204058789063}\n",
      "{'L1': -1.0775544834462891, 'L2': -1.656533700196338}\n",
      "{'L1': -1.2303396826391824, 'L2': -1.7990930222759842}\n",
      "{'L1': -1.363244717211825, 'L2': -1.9230519827695143}\n",
      "{'L1': -1.4788335149916028, 'L2': -2.030848473992503}\n",
      "{'L1': -1.5793568950428476, 'L2': -2.1245924160659078}\n",
      "{'L1': -1.6667771899989399, 'L2': -2.2061163227291813}\n",
      "{'L1': -1.7428020807276545, 'L2': -2.2770132815555764}\n",
      "{'L1': -1.808916913027454, 'L2': -2.338668587562364}\n",
      "{'L1': -1.8664134752654182, 'L2': -2.392286928272502}\n",
      "{'L1': -1.916415181592064, 'L2': -2.4389159494390547}\n",
      "{'L1': -1.9598990089640036, 'L2': -2.4794667312813763}\n",
      "{'L1': -1.997714583110421, 'L2': -2.514731591476309}\n",
      "{'L1': -2.0306007785640285, 'L2': -2.545399566518152}\n",
      "{'L1': -2.059200155286981, 'L2': -2.57206987481231}\n",
      "{'L1': -2.0840715135446812, 'L2': -2.595263624760646}\n",
      "{'L1': -2.1057008122373975, 'L2': -2.6154339966491196}\n",
      "{'L1': -2.1245106639989326, 'L2': -2.6329750972916237}\n",
      "{'L1': -2.1408685925807505, 'L2': -2.648229660442569}\n",
      "{'L1': -2.155094213860494, 'L2': -2.661495743436378}\n",
      "{'L1': -2.1674654807835925, 'L2': -2.673032550898987}\n",
      "{'L1': -2.178224114257161, 'L2': -2.6830654993202665}\n",
      "{'L1': -2.1875803261098423, 'L2': -2.691790621443549}\n",
      "{'L1': -2.1957169263990264, 'L2': -2.699378396529159}\n",
      "{'L1': -2.2027928953176836, 'L2': -2.7059770813310795}\n",
      "{'L1': -2.208946489491944, 'L2': -2.711715606870361}\n",
      "{'L1': -2.214297943363037, 'L2': -2.7167060976050292}\n",
      "{'L1': -2.21895181843563, 'L2': -2.7210460622182966}\n",
      "{'L1': -2.222999046294267, 'L2': -2.724820298830654}\n",
      "{'L1': -2.2265187053062143, 'L2': -2.728102551861591}\n",
      "{'L1': -2.2295795657255124, 'L2': -2.7309569529141964}\n",
      "{'L1': -2.232241433387869, 'L2': -2.7334392738359297}\n",
      "{'L1': -2.2345563182507098, 'L2': -2.735598016438988}\n",
      "{'L1': -2.236569450610364, 'L2': -2.7374753601722084}\n",
      "{'L1': -2.2383201648521576, 'L2': -2.739107986260965}\n",
      "{'L1': -2.2398426680009056, 'L2': -2.740527794417842}\n",
      "{'L1': -2.2411667080884365, 'L2': -2.7417625261278253}\n",
      "{'L1': -2.242318155397318, 'L2': -2.7428363066863146}\n",
      "{'L1': -2.2433195079376347, 'L2': -2.743770116580777}\n",
      "{'L1': -2.2441903310332854, 'L2': -2.7445822014263284}\n",
      "{'L1': -2.244947639606826, 'L2': -2.7452884284649195}\n",
      "{'L1': -2.2456062306322853, 'L2': -2.7459025965937425}\n",
      "{'L1': -2.2461789722517125, 'L2': -2.7464367059804546}\n",
      "{'L1': -2.2466770552044752, 'L2': -2.7469011925332185}\n",
      "{'L1': -2.247110211481962, 'L2': -2.747305131806831}\n",
      "{'L1': -2.247486904479957, 'L2': -2.747656416329055}\n",
      "{'L1': -2.2478144943640554, 'L2': -2.7479619098118997}\n",
      "{'L1': -2.2480993818791797, 'L2': -2.748227581260986}\n",
      "{'L1': -2.2483471334130742, 'L2': -2.7484586216033273}\n",
      "{'L1': -2.248562589757381, 'L2': -2.748659545112319}\n",
      "{'L1': -2.248749960691365, 'L2': -2.7488342776116577}\n",
      "{'L1': -2.2489129072363605, 'L2': -2.7489862331816086}\n",
      "{'L1': -2.249054613188086, 'L2': -2.7491183808663626}\n",
      "{'L1': -2.249177847324502, 'L2': -2.749233302685889}\n",
      "{'L1': -2.2492850175046764, 'L2': -2.7493332440857543}\n",
      "{'L1': -2.2493782177156936, 'L2': -2.7494201578106514}\n",
      "{'L1': -2.2494592689868553, 'L2': -2.749495742058878}\n",
      "{'L1': -2.24952975497058, 'L2': -2.749561473663256}\n",
      "{'L1': -2.2495910528852265, 'L2': -2.7496186369468174}\n",
      "{'L1': -2.24964436042442, 'L2': -2.749668348817057}\n",
      "{'L1': -2.2496907191586644, 'L2': -2.7497115805890746}\n",
      "{'L1': -2.2497310348864827, 'L2': -2.749749176964001}\n",
      "{'L1': -2.249766095332718, 'L2': -2.7497818725335232}\n",
      "{'L1': -2.2497965855398085, 'L2': -2.749810306132999}\n",
      "{'L1': -2.2498231012527636, 'L2': -2.7498350333235932}\n",
      "{'L1': -2.2498461605593607, 'L2': -2.7498565372473296}\n",
      "{'L1': -2.249866214013011, 'L2': -2.749875238067153}\n",
      "{'L1': -2.2498836534360738, 'L2': -2.749891501176452}\n",
      "{'L1': -2.2498988195756366, 'L2': -2.74990564433844}\n",
      "{'L1': -2.2499120087613345, 'L2': -2.7499179438948986}\n",
      "{'L1': -2.249923478695305, 'L2': -2.749928640165592}\n",
      "{'L1': -2.2499334534874036, 'L2': -2.749937942143848}\n",
      "{'L1': -2.2499421280340632, 'L2': -2.74994603158006}\n",
      "{'L1': -2.2499496718263554, 'L2': -2.7499530665328873}\n",
      "{'L1': -2.2499562322616593, 'L2': -2.7499591844575457}\n",
      "{'L1': -2.249961937523642, 'L2': -2.749964504891534}\n",
      "{'L1': -2.2499668990868296, 'L2': -2.7499691317902637}\n",
      "{'L1': -2.2499712138946917, 'L2': -2.74997315555823}\n",
      "{'L1': -2.2499749662538147, 'L2': -2.7499766548154203}\n",
      "{'L1': -2.249978229481156, 'L2': -2.749979697933459}\n",
      "{'L1': -2.2499810673365768, 'L2': -2.7499823443715163}\n",
      "{'L1': -2.249983535268642, 'L2': -2.7499846458380715}\n",
      "{'L1': -2.2499856814980213, 'L2': -2.7499866473012418}\n",
      "{'L1': -2.2499875479596687, 'L2': -2.74998838786741}\n",
      "{'L1': -2.249989171122185, 'L2': -2.7499899015453177}\n",
      "{'L1': -2.2499905827003763, 'L2': -2.749991217910562}\n",
      "{'L1': -2.2499918102749223, 'L2': -2.749992362683468}\n",
      "{'L1': -2.249992877831276, 'L2': -2.7499933582316345}\n",
      "{'L1': -2.24999380622831, 'L2': -2.749994224006975}\n",
      "{'L1': -2.249994613605878, 'L2': -2.749994976925784}\n",
      "{'L1': -2.249995315739248, 'L2': -2.749995631699264}\n",
      "{'L1': -2.2499959263473306, 'L2': -2.7499962011209678}\n",
      "{'L1': -2.2499964573607345, 'L2': -2.7499966963167664}\n",
      "{'L1': -2.249996919154875, 'L2': -2.7499971269622385}\n",
      "{'L1': -2.2499973207527013, 'L2': -2.7499975014717233}\n",
      "{'L1': -2.249997670000991, 'L2': -2.749997827162722}\n"
     ]
    }
   ],
   "source": [
    "# 方策評価を行うプログラム\n",
    "V = {\"L1\": 0, \"L2\": 0}\n",
    "gamma = 0.9\n",
    "\n",
    "for k in range(1, 101):\n",
    "    # 式(2)に基づいて方策評価を計算\n",
    "    V[\"L1\"] = 0.5 * (-1 + gamma * V[\"L1\"]) + 0.5 * (1 + gamma * V[\"L2\"])\n",
    "    V[\"L2\"] = 0.5 * (0 + gamma * V[\"L1\"]) + 0.5 * (-1 + gamma * V[\"L2\"])\n",
    "    print(V)"
   ]
  },
  {
   "cell_type": "markdown",
   "id": "8ea8761f",
   "metadata": {},
   "source": [
    "## 結果の確認\n",
    "問題設定より、ランダムに行動を選択する方策の真の評価関数の値は以下のようになる。\n",
    "\n",
    "$$\n",
    "u(L1) = -2.25, u(L2) = -2.75\n",
    "$$\n",
    "\n",
    "このことから、上記のプログラムを用いることで高い精度で評価関数の値を得られることがわかる。\n",
    "\n",
    "また、上記プログラムでは更新回数を100回としていたが、更新前と更新後の値の絶対値が一定以下になると終了とすることができる。"
   ]
  },
  {
   "cell_type": "markdown",
   "id": "0a98ee58",
   "metadata": {},
   "source": [
    "## より大きな問題への適用\n",
    "\n",
    "$3 \\times 4$のグリッドマスについて考える。左上を$(0, 0)$とし、ルールは以下の通りである。\n",
    "\n",
    "- グリッド内を上下左右に移動できる\n",
    "- $(1, 1)$に壁があり、ここに移動することはできない\n",
    "- 壁に当たった場合の報酬は$0$で状態は変化しない\n",
    "- $(0, 3)$に移動すると報酬$+1$を得る\n",
    "- $(1, 3)$に移動すると報酬$-1$を得る\n",
    "- $(2, 0)$を初期位置、$(0, 3)$をゴールとする\n",
    "\n",
    "この問題は終わりのあるエピソードタスクである。"
   ]
  },
  {
   "cell_type": "markdown",
   "id": "fb94c7fc",
   "metadata": {},
   "source": [
    "### プログラムの設計\n",
    "`GridWorld`クラスを実装する。"
   ]
  },
  {
   "cell_type": "code",
   "execution_count": 25,
   "id": "f13ee087",
   "metadata": {},
   "outputs": [],
   "source": [
    "import numpy as np\n",
    "from utils import Renderer\n",
    "\n",
    "class GridWorld:\n",
    "    def __init__(self):\n",
    "        self.action_space = [0, 1, 2, 3]  # 上、下、左、右\n",
    "        self.action_map = {\n",
    "            0: (-1, 0),  # 上\n",
    "            1: (1, 0),   # 下\n",
    "            2: (0, -1),  # 左\n",
    "            3: (0, 1),   # 右\n",
    "        }\n",
    "        self.reward_map = np.array([\n",
    "            [0, 0, 0, 1],\n",
    "            [0, None, 0, -1],\n",
    "            [0, 0, 0, 0],\n",
    "        ])\n",
    "        self.goal_state = (0, 3)  # ゴール地点\n",
    "        self.wall_state = (1, 1)  # 壁の地点\n",
    "\n",
    "    @property\n",
    "    def height(self):\n",
    "        return self.reward_map.shape[0]\n",
    "    \n",
    "    @property\n",
    "    def width(self):\n",
    "        return self.reward_map.shape[1]\n",
    "    \n",
    "    @property\n",
    "    def shape(self):\n",
    "        return self.reward_map.shape\n",
    "\n",
    "    def actions(self):\n",
    "        return self.action_space\n",
    "    \n",
    "    # 状態を取得\n",
    "    def states(self):\n",
    "        for i in range(self.height):\n",
    "            for j in range(self.width):\n",
    "                yield (i, j)\n",
    "                \n",
    "    def next_state(self, state, action):\n",
    "        move = self.action_map[action]\n",
    "        next_state = (state[0] + move[0], state[1] + move[1])\n",
    "        nx, ny = next_state\n",
    "        \n",
    "        # ワールドの端なら状態は変わらない\n",
    "        if nx < 0 or nx >= self.height or ny < 0 or ny >= self.width:\n",
    "            return state\n",
    "        # 壁なら状態は変わらない\n",
    "        elif self.reward_map[nx, ny] is None:\n",
    "            return state\n",
    "        \n",
    "        return next_state\n",
    "    \n",
    "    def reward(self, state):\n",
    "        return self.reward_map[state]\n",
    "    \n",
    "    def render_v(self, v=None, policy=None, print_value=True):\n",
    "        renderer = Renderer(self.reward_map, self.goal_state, self.wall_state)\n",
    "        renderer.render_v(v, policy, print_value)"
   ]
  },
  {
   "cell_type": "code",
   "execution_count": 26,
   "id": "97b20e25",
   "metadata": {},
   "outputs": [],
   "source": [
    "from collections import defaultdict\n",
    "\n",
    "\n",
    "def eval_step(pi: defaultdict[tuple[int, int], dict[int, float]], V: defaultdict, env: GridWorld, gamma: float):\n",
    "    \"\"\"\n",
    "    方策評価の1ステップを実行する関数\n",
    "    pi: 方策 pi[state] -> stateからの移動方向\n",
    "    V: 現在の状態価値関数\n",
    "    env: 環境\n",
    "    gamma: 割引率\n",
    "    \"\"\"\n",
    "    # 各地点について\n",
    "    for state in env.states():\n",
    "        # ゴール地点の評価関数は0\n",
    "        if state == env.goal_state:\n",
    "            V[state] = 0\n",
    "            continue\n",
    "        \n",
    "        action_probs = pi[state] # 現地点の行動確率\n",
    "        new_V = 0\n",
    "        \n",
    "        # ある地点からの各行動について\n",
    "        for action, action_prob in action_probs.items():\n",
    "            # 次の状態を取得\n",
    "            next_state = env.next_state(state, action)\n",
    "            # 報酬を取得\n",
    "            reward = env.reward(next_state)\n",
    "            # 次の状態の価値関数を取得\n",
    "            new_V += action_prob * (reward + gamma * V[next_state])\n",
    "        V[state] = new_V\n",
    "    return V"
   ]
  },
  {
   "cell_type": "code",
   "execution_count": 27,
   "id": "0c151564",
   "metadata": {},
   "outputs": [
    {
     "name": "stdout",
     "output_type": "stream",
     "text": [
      "defaultdict(<function <lambda> at 0x0000020C100B5E40>, {(0, 0): 0.0256663947864485, (1, 0): -0.03181367353370739, (0, 1): 0.09455374934534977, (0, 2): 0.20546499234745147, (1, 2): -0.49795210910078397, (0, 3): 0, (2, 0): -0.10343315257870167, (2, 1): -0.221022921886541, (1, 1): -0.14765286489289256, (2, 2): -0.4368451010901099, (1, 3): -0.3726771560319816, (2, 3): -0.7857136506161768})\n"
     ]
    },
    {
     "data": {
      "image/png": "[encoded data removed]",
      "text/plain": [
       "<Figure size 640x480 with 1 Axes>"
      ]
     },
     "metadata": {},
     "output_type": "display_data"
    }
   ],
   "source": [
    "env = GridWorld()\n",
    "gamma = 0.9\n",
    "\n",
    "# ランダムに移動する方策\n",
    "pi = defaultdict(lambda: {0: 0.25, 1: 0.25, 2: 0.25, 3: 0.25})\n",
    "V = defaultdict(lambda: 0)\n",
    "\n",
    "def policy_eval(pi: defaultdict[tuple[int, int], dict[int, float]], V: defaultdict, env: GridWorld, gamma: float, threshold: float = 1e-10):\n",
    "    \"\"\"\n",
    "    方策評価を行う関数\n",
    "    pi: 方策 pi[state] -> stateからの移動方向\n",
    "    V: 現在の状態価値関数\n",
    "    env: 環境\n",
    "    gamma: 割引率\n",
    "    threshhold: 収束判定の閾値\n",
    "    \"\"\"\n",
    "    while True:\n",
    "        # 方策評価の1ステップを実行\n",
    "        V_prev = V.copy()\n",
    "        V = eval_step(pi, V, env, gamma)\n",
    "        # 収束判定\n",
    "        if max([abs(V[state] - V_prev[state]) for state in V.keys()]) < threshold:\n",
    "            break\n",
    "    return V\n",
    "\n",
    "print(policy_eval(pi, V, env, gamma))\n",
    "env.render_v(V, pi, print_value=True)"
   ]
  },
  {
   "cell_type": "markdown",
   "id": "2cdb8330",
   "metadata": {},
   "source": [
    "## 結果の確認\n",
    "報酬がマイナスのマスに近いほど、評価関数の値が小さくなっていることがわかる。\n",
    "\n",
    "このことから、正しく評価関数の値を得られたと考えられる。"
   ]
  },
  {
   "cell_type": "markdown",
   "id": "f0b970b8",
   "metadata": {},
   "source": [
    "## 方策反復法\n",
    "ここまで、ある方策に対して評価関数を求める方法を考えてきたが、最適方策を求めたい。\n",
    "\n",
    "まず、最適方策は以下の式で表すことができる。\n",
    "\n",
    "$$\\begin{align*}\n",
    "\\mu_* (s) &= \\argmax_a q_* (s, a)\\\\\n",
    "&= \\argmax_a \\sum_{s'} p(s'|s, a) \\{r(s, a, s') + \\gamma u_\\mu(s')\\}\n",
    "\\end{align*}$$\n",
    "\n",
    "これは、状態$s$のときに行動価値関数を最大化する行動のインデックスを表す。\n",
    "\n",
    "ここで、以下のようにして方策を更新することを考える。\n",
    "$$\\begin{align*}\n",
    "\\mu '(s) &= \\argmax_a q_\\mu (s, a)\\\\\n",
    "&= \\argmax_a \\sum_{s'} p(s'|s, a) \\{r(s, a, s') + \\gamma u_\\mu(s')\\}\n",
    "\\end{align*}$$\n",
    "\n",
    "この式は現状の方策$\\mu(s)$における状態価値関数$u_\\mu(s)$を用いて、新たな方策$\\mu' (s)$を導く。\n",
    "\n",
    "すべての状態$s$について$\\mu(s)$と$\\mu'(s)$が同じであれば(方策が更新されなければ)、方策$\\mu(s)$が最適方策。"
   ]
  },
  {
   "cell_type": "markdown",
   "id": "233341e9",
   "metadata": {},
   "source": [
    "### 実例を考える\n",
    "先ほどと同じ$3 \\times 4$のグリッドマスの問題について考える。\n",
    "\n",
    "この問題は決定論的で、状態$s$と行動$a$に対して次の状態が一意に決まる。そのため、方策の更新式は以下のようにして表すことができる。\n",
    "\n",
    "$$\n",
    "\\mu' (s) = \\argmax_a \\{r(s, a, s') + \\gamma u_\\mu (s')\\}\n",
    "$$\n",
    "\n",
    "この式に従って方策を更新する`greedy_policy`関数を以下に定義する。"
   ]
  },
  {
   "cell_type": "code",
   "execution_count": 28,
   "id": "836b8987",
   "metadata": {},
   "outputs": [],
   "source": [
    "def argmax(d: dict):\n",
    "    \"\"\"\n",
    "    辞書の最大値を持つキーを返す関数\n",
    "    d: 辞書\n",
    "    \"\"\"\n",
    "    return max(d, key=d.get)\n",
    "\n",
    "def greedy_policy(V: defaultdict, env: GridWorld, gamma: float):\n",
    "    \"\"\"\n",
    "    V: 状態価値関数\n",
    "    env: 環境\n",
    "    gamma: 割引率\n",
    "    \"\"\"\n",
    "    pi = {}\n",
    "    \n",
    "    # 各地点について\n",
    "    for state in env.states():\n",
    "        action_values = {}\n",
    "        \n",
    "        # 各行動の価値を計算\n",
    "        for action in env.actions():\n",
    "            next_state = env.next_state(state, action)\n",
    "            reward = env.reward(next_state)\n",
    "            action_values[action] = reward + gamma * V[next_state]\n",
    "\n",
    "        # 価値が最大となる行動を選択\n",
    "        max_action = argmax(action_values)\n",
    "        action_probs = {a: 0 for a in env.actions()}\n",
    "        action_probs[max_action] = 1.0\n",
    "        pi[state] = action_probs\n",
    "    return pi"
   ]
  },
  {
   "cell_type": "markdown",
   "id": "eb93b939",
   "metadata": {},
   "source": [
    "評価関数値の更新(`policy_eval`)と方策の更新(`greedy_policy`)を交互に繰り返す`policy_iter`関数を以下のように定義する。"
   ]
  },
  {
   "cell_type": "code",
   "execution_count": 31,
   "id": "ad48f824",
   "metadata": {},
   "outputs": [],
   "source": [
    "# 方策反復法\n",
    "def policy_iter(env: GridWorld, gamma: float, threshold: float = 1e-10, render: bool = False) -> tuple[defaultdict, defaultdict]:\n",
    "    # 方策と評価関数値の初期化\n",
    "    pi = defaultdict(lambda: {0: 0.25, 1: 0.25, 2: 0.25, 3: 0.25})\n",
    "    V = defaultdict(lambda: 0)\n",
    "    \n",
    "    while True:\n",
    "        V = policy_eval(pi, V, env, gamma, threshold)\n",
    "        new_pi = greedy_policy(V, env, gamma)\n",
    "        \n",
    "        if render:\n",
    "            env.render_v(V, pi)\n",
    "            \n",
    "        if new_pi == pi:\n",
    "            break\n",
    "        \n",
    "        pi = new_pi\n",
    "    \n",
    "    return (pi, V)"
   ]
  },
  {
   "cell_type": "markdown",
   "id": "ea473ecd",
   "metadata": {},
   "source": [
    "`policy_iter`を実行する"
   ]
  },
  {
   "cell_type": "code",
   "execution_count": 32,
   "id": "c0b33154",
   "metadata": {},
   "outputs": [
    {
     "data": {
      "image/png": "[encoded data removed]",
      "text/plain": [
       "<Figure size 640x480 with 1 Axes>"
      ]
     },
     "metadata": {},
     "output_type": "display_data"
    },
    {
     "data": {
      "image/png": "[encoded data removed]",
      "text/plain": [
       "<Figure size 640x480 with 1 Axes>"
      ]
     },
     "metadata": {},
     "output_type": "display_data"
    },
    {
     "data": {
      "image/png": "[encoded data removed]",
      "text/plain": [
       "<Figure size 640x480 with 1 Axes>"
      ]
     },
     "metadata": {},
     "output_type": "display_data"
    },
    {
     "data": {
      "image/png": "[encoded data removed]",
      "text/plain": [
       "<Figure size 640x480 with 1 Axes>"
      ]
     },
     "metadata": {},
     "output_type": "display_data"
    }
   ],
   "source": [
    "env = GridWorld()\n",
    "gamma = 0.9\n",
    "pi, V = policy_iter(env, gamma, render=True)"
   ]
  },
  {
   "cell_type": "markdown",
   "id": "aca9e0ed",
   "metadata": {},
   "source": [
    "### 考察\n",
    "方策反復法を用いることで、4回の更新で最適な方策を得ることができた。\n",
    "\n",
    "1回目の更新でほとんど最適な方策を得ており、少しずつ方策の更新量が少なくなると考えられる。"
   ]
  },
  {
   "cell_type": "markdown",
   "id": "d05068b3",
   "metadata": {},
   "source": [
    "## 価値反復法\n",
    "方策反復法では、全ての状態について評価関数値の更新と方策の更新をそれぞれ最大限まで行い、交互に繰り返すことを繰り返している。\n",
    "\n",
    "価値反復法では1つの状態について評価関数値の更新と方策の更新を行い、これを繰り返す。\n",
    "\n",
    "### 価値反復法のアイデア\n",
    "まず、評価関数値が最大となるように方策を決める式は以下であった。\n",
    "\n",
    "$$\n",
    "\\mu(s) = \\argmax_a \\sum_{s'} p(s'|s, a) \\{r(s, a, s') + \\gamma V(s')\\}\\tag{3}\n",
    "$$\n",
    "\n",
    "また、価値関数の値の更新式は以下で表される。\n",
    "\n",
    "$$\n",
    "V'(s) = \\sum_{a, s'} \\pi(a|s) p(s'|s, a) \\{r(s, a, s') + \\gamma V(s')\\}\\tag{4}\n",
    "$$\n",
    "\n",
    "そして、一度方策を更新した場合は決定論的な方策であるため、評価関数の値の更新式は以下のように書ける。\n",
    "\n",
    "$$\n",
    "a = \\mu(s) として\\\\\n",
    "V'(s) = \\sum_{s'} p(s'|s, a) \\{r(s, a, s') + \\gamma V(s')\\}\\tag{5}\n",
    "$$\n",
    "\n",
    "式(3)と式(5)を見ると、全く同じ計算をしていることがわかる。そこで、これらを1つの式にまとめることを考える。\n",
    "\n",
    "$$\n",
    "V'(s) = \\max_a \\sum_{s'} p(s'|s, a) \\{r(s, a, s') + \\gamma V(s')\\}\\tag{6}\n",
    "$$\n",
    "\n",
    "各行動の評価関数の値において最大となるものを選択している。方策$\\mu$は式に登場せず、最適価値関数$V_*$から以下のようにして最適方策を得ることができる。\n",
    "\n",
    "$$\n",
    "\\mu_*(s) = \\argmax_a \\sum_{s'} p(s'| s, a) \\{r(s, a, s') + \\gamma V_*(s')\\}\n",
    "$$\n",
    "\n",
    "このことから、価値反復法では以下の手順で最適方策を得ることができる。\n",
    "\n",
    "1. 最適価値関数を求める\n",
    "2. 最適方策を求める\n",
    "\n",
    "方策反復法では最適価値関数と最適方策を同時に求めるのに比べ、価値反復法では先に最適価値関数を求めてから最適方策を得ている。"
   ]
  },
  {
   "cell_type": "markdown",
   "id": "5d3684d3",
   "metadata": {},
   "source": [
    "### 価値反復法の実装\n",
    "まずは、各状態について価値関数値の最大値を求める`value_iter_onestep`関数を実装する。"
   ]
  },
  {
   "cell_type": "code",
   "execution_count": 33,
   "id": "5deffa4d",
   "metadata": {},
   "outputs": [],
   "source": [
    "def value_iter_onestep(V: defaultdict, env: GridWorld, gamma: float) -> defaultdict:\n",
    "    for state in env.states(): # 各状態(地点)について\n",
    "        if state == env.goal_state: # ゴール地点の評価関数は0\n",
    "            V[state] = 0\n",
    "            continue\n",
    "        \n",
    "        action_values = []\n",
    "        for action in env.actions(): # 各行動について\n",
    "            next_state = env.next_state(state, action)\n",
    "            reward = env.reward(next_state)\n",
    "            value = reward + gamma * V[next_state]\n",
    "            action_values.append(value)\n",
    "        \n",
    "        V[state] = max(action_values) # 最大値を取り出す\n",
    "        \n",
    "    return V"
   ]
  },
  {
   "cell_type": "markdown",
   "id": "a0a49a35",
   "metadata": {},
   "source": [
    "続いて、`value_iter_onestep`関数を繰り返し実行して変化が一定以下になるまで評価関数の更新を繰り返す`value_iter`関数を実装する"
   ]
  },
  {
   "cell_type": "code",
   "execution_count": 34,
   "id": "782dc141",
   "metadata": {},
   "outputs": [],
   "source": [
    "def value_iter(V: defaultdict, env: GridWorld, gamma: float, threshold: float = 1e-10, render: bool = False) -> defaultdict:\n",
    "    while True:\n",
    "        if render:\n",
    "            env.render_v(V)\n",
    "            \n",
    "        V_prev = V.copy()\n",
    "        # 評価関数を更新\n",
    "        V = value_iter_onestep(V, env, gamma)\n",
    "        \n",
    "        # 更新量の最大値を計算\n",
    "        max_diff = max([abs(V[state] - V_prev[state]) for state in V.keys()])\n",
    "        # 更新量の最大値が閾値より小さくなったら終了\n",
    "        if max_diff < threshold:\n",
    "            break\n",
    "    return V\n",
    "    "
   ]
  },
  {
   "cell_type": "markdown",
   "id": "4975b3da",
   "metadata": {},
   "source": [
    "上記で実装した関数を使って最適評価関数を求め、その結果から最適方策を求める。"
   ]
  },
  {
   "cell_type": "code",
   "execution_count": 35,
   "id": "d6a755d1",
   "metadata": {},
   "outputs": [
    {
     "data": {
      "image/png": "[encoded data removed]",
      "text/plain": [
       "<Figure size 640x480 with 1 Axes>"
      ]
     },
     "metadata": {},
     "output_type": "display_data"
    }
   ],
   "source": [
    "V = defaultdict(lambda: 0)\n",
    "env = GridWorld()\n",
    "gamma = 0.9\n",
    "\n",
    "# 最適評価関数を計算\n",
    "V = value_iter(V, env, gamma)\n",
    "\n",
    "# 最適評価関数から最適方策を計算\n",
    "pi = greedy_policy(V, env, gamma)\n",
    "\n",
    "env.render_v(V, pi, print_value=True)"
   ]
  },
  {
   "cell_type": "markdown",
   "id": "62df8b7a",
   "metadata": {},
   "source": [
    "## 考察\n",
    "価値反復法で得た結果が方策反復法で得た結果と同じになっており、この方法でも正しく結果を得ていることがわかる。\n",
    "\n",
    "同じ計算を複数回行わないという点で若干の計算量改善になっていると考えられる。"
   ]
  }
 ],
 "metadata": {
  "kernelspec": {
   "display_name": ".venv",
   "language": "python",
   "name": "python3"
  },
  "language_info": {
   "codemirror_mode": {
    "name": "ipython",
    "version": 3
   },
   "file_extension": ".py",
   "mimetype": "text/x-python",
   "name": "python",
   "nbconvert_exporter": "python",
   "pygments_lexer": "ipython3",
   "version": "3.12.8"
  }
 },
 "nbformat": 4,
 "nbformat_minor": 5
}
